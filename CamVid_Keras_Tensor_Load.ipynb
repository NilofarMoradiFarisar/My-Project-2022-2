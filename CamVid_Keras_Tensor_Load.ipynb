{
  "nbformat": 4,
  "nbformat_minor": 0,
  "metadata": {
    "colab": {
      "name": "CamVid-Keras-Tensor_Load.ipynb",
      "provenance": [],
      "collapsed_sections": [],
      "authorship_tag": "ABX9TyOhI/mbkp7rQsvHjoitctnC",
      "include_colab_link": true
    },
    "kernelspec": {
      "name": "python3",
      "display_name": "Python 3"
    },
    "language_info": {
      "name": "python"
    }
  },
  "cells": [
    {
      "cell_type": "markdown",
      "metadata": {
        "id": "view-in-github",
        "colab_type": "text"
      },
      "source": [
        "<a href=\"https://colab.research.google.com/github/NilofarMoradiFarisar/My-Project-2022-2/blob/main/CamVid_Keras_Tensor_Load.ipynb\" target=\"_parent\"><img src=\"https://colab.research.google.com/assets/colab-badge.svg\" alt=\"Open In Colab\"/></a>"
      ]
    },
    {
      "cell_type": "code",
      "execution_count": 42,
      "metadata": {
        "id": "OQl8vCCjdkwJ"
      },
      "outputs": [],
      "source": [
        "import numpy as np\n",
        "import pandas as pd\n",
        "import matplotlib.pyplot as plt\n",
        "import seaborn as sb\n",
        "import scipy as sp "
      ]
    },
    {
      "cell_type": "code",
      "source": [
        "import tensorflow as tf\n",
        "from tensorflow import keras"
      ],
      "metadata": {
        "id": "yHUcJSlddr9v"
      },
      "execution_count": 43,
      "outputs": []
    },
    {
      "cell_type": "code",
      "source": [
        "import glob"
      ],
      "metadata": {
        "id": "m7qMtJh-eBpk"
      },
      "execution_count": 44,
      "outputs": []
    },
    {
      "cell_type": "code",
      "source": [
        "images_path= r\"C:/Users/Hamid/Desktop/CamVid/train/\""
      ],
      "metadata": {
        "id": "EY2dF9tseJjQ"
      },
      "execution_count": 56,
      "outputs": []
    },
    {
      "cell_type": "code",
      "source": [
        "images = glob.glob(images_path + \"*.png\") + glob.glob(images_path+ \"*.jpg\")\n",
        "images.sort()"
      ],
      "metadata": {
        "id": "aaUDB85vfjwZ"
      },
      "execution_count": 67,
      "outputs": []
    },
    {
      "cell_type": "code",
      "source": [
        "print(images)"
      ],
      "metadata": {
        "colab": {
          "base_uri": "https://localhost:8080/"
        },
        "id": "Xjgy7NyKrZjf",
        "outputId": "c1bac86f-c19c-4420-800b-6caf096a03c6"
      },
      "execution_count": 66,
      "outputs": [
        {
          "output_type": "stream",
          "name": "stdout",
          "text": [
            "[]\n"
          ]
        }
      ]
    },
    {
      "cell_type": "code",
      "source": [
        "len(images)"
      ],
      "metadata": {
        "colab": {
          "base_uri": "https://localhost:8080/"
        },
        "id": "b5FE8NmErh3R",
        "outputId": "e49b6255-798a-4cd8-c9f4-76b19a396a90"
      },
      "execution_count": 64,
      "outputs": [
        {
          "output_type": "execute_result",
          "data": {
            "text/plain": [
              "0"
            ]
          },
          "metadata": {},
          "execution_count": 64
        }
      ]
    },
    {
      "cell_type": "code",
      "source": [
        "!pip install opencv-python"
      ],
      "metadata": {
        "colab": {
          "base_uri": "https://localhost:8080/"
        },
        "id": "JLcQ08uzsmaC",
        "outputId": "730aa6e2-e722-40b8-d799-d5f0d918f8c3"
      },
      "execution_count": 50,
      "outputs": [
        {
          "output_type": "stream",
          "name": "stdout",
          "text": [
            "Requirement already satisfied: opencv-python in /usr/local/lib/python3.7/dist-packages (4.1.2.30)\n",
            "Requirement already satisfied: numpy>=1.14.5 in /usr/local/lib/python3.7/dist-packages (from opencv-python) (1.19.5)\n"
          ]
        }
      ]
    },
    {
      "cell_type": "code",
      "source": [
        "import cv2"
      ],
      "metadata": {
        "id": "cKBqusm0tIBj"
      },
      "execution_count": 51,
      "outputs": []
    },
    {
      "cell_type": "code",
      "source": [
        "cv2.__version__"
      ],
      "metadata": {
        "colab": {
          "base_uri": "https://localhost:8080/",
          "height": 35
        },
        "id": "T0l5kK_ttMxx",
        "outputId": "8ca22e89-e10c-49de-c6dc-793448a27b26"
      },
      "execution_count": 52,
      "outputs": [
        {
          "output_type": "execute_result",
          "data": {
            "application/vnd.google.colaboratory.intrinsic+json": {
              "type": "string"
            },
            "text/plain": [
              "'4.1.2'"
            ]
          },
          "metadata": {},
          "execution_count": 52
        }
      ]
    },
    {
      "cell_type": "code",
      "source": [
        "X=[]\n",
        "width= 200\n",
        "height= 100\n",
        "for img in images:\n",
        "  image = cv2.imread(img)\n",
        "  image = cv2.resize(image, (width, height))\n",
        "  image = image / np.max(image)\n",
        "  image = image.astype(np.float32)\n",
        "  X.append(image)\n"
      ],
      "metadata": {
        "id": "EIJMXs23sVLb"
      },
      "execution_count": 53,
      "outputs": []
    },
    {
      "cell_type": "markdown",
      "source": [
        "#loading label image\n"
      ],
      "metadata": {
        "id": "U7cVrYR21Mkn"
      }
    },
    {
      "cell_type": "code",
      "source": [
        "labels_path= r\"C:/Users/Hamid/Desktop/CamVid/trainannot/\""
      ],
      "metadata": {
        "id": "mi7JgcRx1MLu"
      },
      "execution_count": 68,
      "outputs": []
    },
    {
      "cell_type": "code",
      "source": [
        "labels = glob.glob(labels_path+ \"*.png\") + glob.glob(labels_path+ \"*.jpg\")\n",
        "labels.sort()"
      ],
      "metadata": {
        "id": "xEuuEsF4vFLn"
      },
      "execution_count": 77,
      "outputs": []
    },
    {
      "cell_type": "code",
      "source": [
        "Y=[]\n",
        "out_width= 200\n",
        "out_height= 100\n",
        "nClasses = 12 \n",
        "seg_labels = np.zeros([out_height, out_width, nClasses], dtype= 'uint8')\n",
        "for mask in labels:\n",
        "  label = cv2.imread(mask)\n",
        "  label = cv2.resize(label, (out_width, out_height))\n",
        "  label = label[ :, : , 0]\n",
        "  for c in range(nClasses):\n",
        "    seg_labels[:, : , c] = (label == c )\n",
        "  label = label.astype(np.uint8)\n",
        "  Y.append(label)\n"
      ],
      "metadata": {
        "id": "o8WSj5Pm16nf"
      },
      "execution_count": 78,
      "outputs": []
    },
    {
      "cell_type": "code",
      "source": [
        ""
      ],
      "metadata": {
        "id": "CSY_n1Nj3zK0"
      },
      "execution_count": null,
      "outputs": []
    }
  ]
}